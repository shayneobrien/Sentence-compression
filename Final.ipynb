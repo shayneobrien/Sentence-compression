{
 "cells": [
  {
   "cell_type": "code",
   "execution_count": 57,
   "metadata": {
    "collapsed": true
   },
   "outputs": [],
   "source": [
    "import os\n",
    "from nltk.parse import stanford\n",
    "os.environ['STANFORD_PARSER'] = '/home/subham/jar/stanford-parser.jar'\n",
    "os.environ['STANFORD_MODELS'] = '/home/subham/jar/stanford-parser-3.7.0-models.jar'\n"
   ]
  },
  {
   "cell_type": "code",
   "execution_count": 58,
   "metadata": {
    "collapsed": true
   },
   "outputs": [],
   "source": [
    "parser = stanford.StanfordParser(model_path=\"/home/subham/jar/englishPCFG.ser\")"
   ]
  },
  {
   "cell_type": "code",
   "execution_count": 59,
   "metadata": {
    "collapsed": false
   },
   "outputs": [
    {
     "name": "stdout",
     "output_type": "stream",
     "text": [
      "Arsenal Football FC is an football club that plays in the English Premier League . The club was founded in 1886 and was called Dial Square FC named after a sundial on the side of a factory . The team plays in a and kit . They played at Highbury in North London from 1913 - 2006 , but they play at the Emirates Stadium . The captain of the side is Per Mertesacker . Their rivals are Tottenham Hotspur , and the two play against each in what is called the North London Derby . Arsenal won the First Division and Premier League 13 times and the FA Cup 10 times . They are the club to have been the subject of a feature film . In 2003/04 season Arsenal broke the record for the run in all competitions spanning over a season with over 38 games . They were hailed as the New Invincibles . The Evelina approach was the reason were to achieve this , implemented by manager Arsene Wenger . Arsenal are the team who have gone the in the Premier League without being relegated . They were during WW1 over 90 years . They have a kit . \n"
     ]
    }
   ],
   "source": [
    "import nltk\n",
    "from nltk import sent_tokenize, word_tokenize\n",
    "para='Arsenal Football FC is an English football club that plays in the English Premier League.\\\n",
    "The club was founded in 1886 and was originally called Dial Square FC named after a sundial on the side of\\\n",
    "a factory. The team plays in a traditional red and white kit. They played at Highbury in North London from\\\n",
    "1913 - 2006, but now they play at the Emirates Stadium. The current captain of the side is Per Mertesacker. \\\n",
    "Their biggest rivals are Tottenham Hotspur, and the two play against each other in what is called the North London \\\n",
    "Derby. Arsenal won the First Division and Premier League 13 times and the FA Cup 10 times. They are the only \\\n",
    "British club to have been the subject of a feature film. In 2003/04 season Arsenal broke the record for the \\\n",
    "longest unbeaten run in all competitions spanning over a season with over 38 games. They were hailed as the New \\\n",
    "Invincibles. The Evelina approach was the main reason arsenal were able to achieve this, first implemented by \\\n",
    "manager Arsene Wenger. Arsenal are also the team who have gone the longest in the Premier League without being \\\n",
    "relegated. They were last relegated during WW1 over 90 years ago. They have a golden away kit.'\n",
    "sentence=nltk.sent_tokenize(para)\n",
    "#print(sentence)\n",
    "s1=\"\"\n",
    "for sentences in sentence:\n",
    "    toks=nltk.word_tokenize(sentences)\n",
    "    tags=nltk.pos_tag(toks)\n",
    "    #print(tags)\n",
    "    s=\"\"\n",
    "    for i in range(0,len(tags)):\n",
    "        if tags[i][1]!='RB' and tags[i][1]!='RBR' and tags[i][1]!='RBS' and tags[i][1]!='JJ' and tags[i][1]!='JJR' and tags[i][1]!='JJS':\n",
    "            s=s+tags[i][0]+\" \" \n",
    "        else:\n",
    "            pass\n",
    "    s1=s1+s\n",
    "para=s1\n",
    "print(para)"
   ]
  },
  {
   "cell_type": "code",
   "execution_count": 60,
   "metadata": {
    "collapsed": false
   },
   "outputs": [],
   "source": [
    "s=parser.raw_parse_sents(sent_tokenize(para))\n",
    "for line in s:\n",
    "    for word in line:\n",
    "        word.draw()"
   ]
  },
  {
   "cell_type": "code",
   "execution_count": 51,
   "metadata": {
    "collapsed": false
   },
   "outputs": [
    {
     "name": "stdout",
     "output_type": "stream",
     "text": [
      "Arsenal Football FC is football club that plays in English Premier League . club was founded in 1886 and was called Dial Square FC named after sundial on side of factory . team plays in and kit . They played at Highbury in North London from 1913 - 2006 , but they play at Emirates Stadium . captain of side is Per Mertesacker . Their rivals are Tottenham Hotspur , and two play against in what is called North London Derby . Arsenal won First Division and Premier League 13 times and FA Cup 10 times . They are club to have been subject of feature film . In 2003/04 season Arsenal broke record for run in competitions spanning over season with over 38 games . They were hailed as New Invincibles . Evelina approach was reason were to achieve , implemented by manager Arsene Wenger . Arsenal are team who have gone in Premier League without being relegated . They were during WW1 over 90 years . They have kit . \n"
     ]
    }
   ],
   "source": [
    "from nltk import pos_tag, RegexpParser\n",
    "s1=\"\"\n",
    "sentence=nltk.sent_tokenize(para)\n",
    "for sentences in sentence:\n",
    "    pos_tagged=pos_tag(word_tokenize(sentences))\n",
    "    #print(pos_tagged)\n",
    "    s=\"\"\n",
    "    for i in range(0,len(pos_tagged)):\n",
    "        if pos_tagged[i][1]=='DT':\n",
    "            pass\n",
    "        else:\n",
    "            s=s+pos_tagged[i][0]+\" \"\n",
    "    s1=s1+s\n",
    "para=s1\n",
    "print(para)"
   ]
  },
  {
   "cell_type": "code",
   "execution_count": 35,
   "metadata": {
    "collapsed": true
   },
   "outputs": [],
   "source": [
    "s=parser.raw_parse_sents(sent_tokenize(para))\n",
    "for line in s:\n",
    "    for word in line:\n",
    "        word.draw()"
   ]
  },
  {
   "cell_type": "code",
   "execution_count": 52,
   "metadata": {
    "collapsed": false
   },
   "outputs": [
    {
     "name": "stdout",
     "output_type": "stream",
     "text": [
      "Arsenal Football FC is football club that plays .club was founded .team plays .They played .captain .Their rivals are Tottenham Hotspur , and two play .Arsenal won First Division and Premier League 13 times and FA Cup 10 times . They are club to have been subject ..They were hailed .Evelina approach was reason were to achieve , implemented .Arsenal are team who have gone .They were .They have kit . \n"
     ]
    }
   ],
   "source": [
    "from nltk import pos_tag, RegexpParser\n",
    "s1=\"\"\n",
    "sentence=nltk.sent_tokenize(para)\n",
    "for sentences in sentence:\n",
    "    pos_tagged=pos_tag(word_tokenize(sentences))\n",
    "    #print(pos_tagged)\n",
    "    s=\"\"\n",
    "    for i in range(0,len(pos_tagged)):\n",
    "        if pos_tagged[i][1]!='IN':\n",
    "            s=s+pos_tagged[i][0]+\" \"\n",
    "        else:\n",
    "            s=s+\".\"\n",
    "            break\n",
    "    s1=s1+s\n",
    "para=s1\n",
    "print(para)"
   ]
  }
 ],
 "metadata": {
  "kernelspec": {
   "display_name": "Python 3",
   "language": "python",
   "name": "python3"
  },
  "language_info": {
   "codemirror_mode": {
    "name": "ipython",
    "version": 3
   },
   "file_extension": ".py",
   "mimetype": "text/x-python",
   "name": "python",
   "nbconvert_exporter": "python",
   "pygments_lexer": "ipython3",
   "version": "3.6.0"
  }
 },
 "nbformat": 4,
 "nbformat_minor": 2
}
